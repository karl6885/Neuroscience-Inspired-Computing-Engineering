{
 "cells": [
  {
   "cell_type": "code",
   "execution_count": 1,
   "metadata": {
    "collapsed": true
   },
   "outputs": [],
   "source": [
    "import numpy as np"
   ]
  },
  {
   "cell_type": "markdown",
   "metadata": {},
   "source": [
    "# Define Perceptron\n",
    "- ReLU based perceptron\n",
    "- has weight array, one output, and size of weight array\n",
    "- calc() : calculate the output by using current input\n",
    "- upd_weight() : update the weight"
   ]
  },
  {
   "cell_type": "code",
   "execution_count": null,
   "metadata": {
    "collapsed": false
   },
   "outputs": [],
   "source": [
    "class Perceptron:\n",
    "    weight = []\n",
    "    output = 0\n",
    "    size = 0\n",
    "\n",
    "    def __init__(self, weight, output, size):\n",
    "        self.weight = weight\n",
    "        self.output = output\n",
    "        self.size = size\n",
    "\n",
    "        assert len(self.weight) == self.size, \"Perceptron weight size is not matched\"\n",
    "\n",
    "    def calc(self, input):\n",
    "        assert len(input) == self.size, \"Input size in perceptron is not matched\"\n",
    "        self.output = 0\n",
    "        for i in range(0, self.size):\n",
    "            self.output += max(input[i] * self.weight[i], 0)  # y=max(0,n)\n",
    "\n",
    "    def upd_weight(self, weight):\n",
    "        self.weight = weight\n",
    "\n",
    "    def soft_calc(self, input):\n",
    "        assert len(input) == self.size, \"Input size in perceptron is not matched\"\n",
    "        self.output = 0\n",
    "        for i in range(0, self.size):\n",
    "            self.output += input[i] * self.weight[i]\n",
    "        self.output = np.exp(self.output)  # y=exp(0x)"
   ]
  },
  {
   "cell_type": "markdown",
   "metadata": {},
   "source": [
    "# Define Layer\n",
    "- has node array(perceptrons), weight matrix, and input array(output of previous layer)\n",
    "- set_input() : set input array\n",
    "- init_weight() : initiallize the weight (-0.001 ~ 0.001)"
   ]
  },
  {
   "cell_type": "code",
   "execution_count": null,
   "metadata": {
    "collapsed": false
   },
   "outputs": [],
   "source": [
    "class Layer:\n",
    "    nodes = []\n",
    "    input = []\n",
    "    w_mat = []\n",
    "    output = []\n",
    "    n_nodes = 0\n",
    "    n_input = 0\n",
    "    n_output = 0\n",
    "\n",
    "    def __init__(self, n_nodes, n_input):\n",
    "        self.n_nodes = n_nodes\n",
    "        for i in range(0, self.n_nodes):\n",
    "            self.nodes.append(Perceptron())\n",
    "        assert len(self.nodes) == self.n_nodes, \"# of nodes in Layer is not matched\"\n",
    "\n",
    "        self.n_input = n_input\n",
    "\n",
    "    def set_input(self, input):\n",
    "        self.input = input\n",
    "        assert len(self.input) == self.n_input, \"# of input in Layer is not matched\"\n",
    "\n",
    "    def upd_weight(self, w_mat):\n",
    "        self.w_mat = w_mat\n",
    "        for index in range(0, self.n_nodes):\n",
    "            self.nodes[index].upd_weight(w_mat[:, index])\n",
    "\n",
    "    def init_weight(self):\n",
    "        new_mat = (np.random.rand(self.n_input, self.n_nodes) * 0.002) - 0.001\n",
    "        self.upd_weight(new_mat)\n",
    "\n",
    "    def calc_layer(self):\n",
    "        assert len(self.input) > 0, \"Input is empty in current layer\"\n",
    "        self.output = [node.calc(self.input) for node in self.nodes]\n",
    "        self.n_output = len(self.output)\n",
    "\n",
    "        assert len(self.output) == self.n_output, \"# of output in Layer is not matched\"\n",
    "\n",
    "    def soft_layer(self):\n",
    "        assert len(self.input) > 0, \"Input is empty in current layer\"\n",
    "        self.output = [node.soft_calc(self.input) for node in self.nodes]\n",
    "        sum_output = np.sum(self.output)\n",
    "        self.output = [node / sum_output for node in self.output]\n",
    "        self.n_output = len(self.output)\n",
    "\n",
    "        assert len(self.output) == self.n_output, \"# of output in Layer is not matched\"\n"
   ]
  },
  {
   "cell_type": "markdown",
   "metadata": {},
   "source": [
    "# Define Network"
   ]
  },
  {
   "cell_type": "code",
   "execution_count": 7,
   "metadata": {
    "collapsed": false
   },
   "outputs": [],
   "source": [
    "class Network:\n",
    "    n_hidden = 0\n",
    "    hidden = []  # 밑에서 부터 위로\n",
    "    node_in_hidden = []\n",
    "    n_input = 0\n",
    "    input = []\n",
    "    n_output = 0\n",
    "    output = []\n",
    "    result = []\n",
    "    learning_rate = 0\n",
    "    total_loss=[]\n",
    "    error=0\n",
    "\n",
    "    def __init__(self, n_hidden, n_input, n_output): # 2, 784, 10\n",
    "        self.n_hidden = n_hidden\n",
    "        self.n_input = n_input\n",
    "        self.n_output = n_output\n",
    "\n",
    "    def config_layer(self):\n",
    "        self.node_in_hidden = []\n",
    "        for index in range(0, self.n_hidden):\n",
    "            temp_h = int(input(index + \"번째 Layer node 갯수 : \"))\n",
    "            assert temp_h >= 0, \"node is not positive\"\n",
    "            self.node_in_hidden.append(temp_h)\n",
    "        nodes = np.array(self.n_input, self.node_in_hidden)\n",
    "        for index in range(1, self.n_hidden):\n",
    "            self.hidden.append(Layer(nodes[index], nodes[index - 1]))\n",
    "\n",
    "        self.output = Layer(self.n_output, nodes[self.n_hidden])\n",
    "        assert len(self.node_in_hidden) == self.n_hidden, \"# of node in layer is not matched\"\n",
    "\n",
    "    def feed_forward(self, input):\n",
    "        self.input = input\n",
    "        # Layer 0 calc\n",
    "        self.hidden[0].set_input(input)\n",
    "        self.hidden[0].calc_layer()\n",
    "        # hidden Layer calc\n",
    "        for layer_index in range(1, self.n_hidden):\n",
    "            self.hidden[layer_index].set_input(self.hidden[layer_index - 1].output)\n",
    "            self.hidden[layer_index].calc_layer()\n",
    "        # calc output\n",
    "        self.output.set_input(self.hidden[self.n_hidden - 1].output)\n",
    "        result = self.output.soft_layer()\n",
    "\n",
    "    def calc_dcost(self,target):\n",
    "        cost = [-1 * target[index] * (1 - self.result[index]) for index in range(0, self.n_output)]\n",
    "        self.total_loss=self.total_loss+cost\n",
    "        \n",
    "    def calc_error(self,target):\n",
    "        cost = [-1 * target[index] * np.log(self.result[index]) for index in range(0, self.n_output)]\n",
    "        self.error=self.error+(np.sum(cost)/self.n_output)\n",
    "        \n",
    "    def back_propagation(self):\n",
    "        # update softmax\n",
    "        cur_mat = np.matmul(self.total_loss, self.output.w_mat)\n",
    "        upd_mat = self.output.w_mat - self.learning_rate * np.matmul(np.transpose(self.output.input), self.total_loss)\n",
    "        self.output.upd_weight(upd_mat)\n",
    "        # update RELU\n",
    "        for h_index in range(self.n_hidden - 1, -1):\n",
    "            cur_layer = self.hidden[h_index]\n",
    "            temp_mat = cur_layer.w_mat  # for next layer\n",
    "            relu_result = [1 if result > 0 else 0 for result in cur_layer.output]\n",
    "            if h_index == 0:\n",
    "                upd_mat = cur_layer.w_mat - self.learning_rate * np.matmul(np.transpose(self.input), cur_mat)\n",
    "            else:\n",
    "                upd_mat = cur_layer.w_mat - self.learning_rate * np.matmul(\n",
    "                    np.transpose(self.hidden[h_index - 1].output), cur_mat)\n",
    "            for cur_node in range(0, self.node_in_hidden[h_index]):\n",
    "                upd_mat[:, cur_node] = upd_mat[:, cur_node] * relu_result[cur_node]\n",
    "            cur_mat = np.matmul(cur_mat, temp_mat)\n",
    "            self.hidden[h_index].upd_weight(upd_mat)\n",
    "    \n",
    "    def training(self,data,target,epoch,alpha):\n",
    "        #batch training\n",
    "        self.learning_rate=alpha\n",
    "        for i in range(0,epoch):\n",
    "            self.error=0\n",
    "            self.total_loss=np.zeros(self.n_output)\n",
    "            for data_index in range(0,55001):\n",
    "                self.feed_forward(data[data_index,:])\n",
    "                self.calc_dcost(target[data_index,:])\n",
    "                self.calc_error(target[data_index,:])\n",
    "            self.total_loss=self.total_loss/55000\n",
    "            self.error=self.error/55000\n",
    "            print(\"Error {}\".format(self.error))\n",
    "            self.back_propagation()"
   ]
  },
  {
   "cell_type": "code",
   "execution_count": 1,
   "metadata": {
    "collapsed": false
   },
   "outputs": [
    {
     "ename": "ImportError",
     "evalue": "No module named 'tensorflow'",
     "output_type": "error",
     "traceback": [
      "\u001b[0;31m---------------------------------------------------------------------------\u001b[0m",
      "\u001b[0;31mImportError\u001b[0m                               Traceback (most recent call last)",
      "\u001b[0;32m<ipython-input-1-a3937a392158>\u001b[0m in \u001b[0;36m<module>\u001b[0;34m()\u001b[0m\n\u001b[1;32m     10\u001b[0m \u001b[1;32mfrom\u001b[0m \u001b[0msix\u001b[0m\u001b[1;33m.\u001b[0m\u001b[0mmoves\u001b[0m \u001b[1;32mimport\u001b[0m \u001b[0murllib\u001b[0m\u001b[1;33m\u001b[0m\u001b[0m\n\u001b[1;32m     11\u001b[0m \u001b[1;32mfrom\u001b[0m \u001b[0msix\u001b[0m\u001b[1;33m.\u001b[0m\u001b[0mmoves\u001b[0m \u001b[1;32mimport\u001b[0m \u001b[0mxrange\u001b[0m  \u001b[1;31m# pylint: disable=redefined-builtin\u001b[0m\u001b[1;33m\u001b[0m\u001b[0m\n\u001b[0;32m---> 12\u001b[0;31m \u001b[1;32mimport\u001b[0m \u001b[0mtensorflow\u001b[0m \u001b[1;32mas\u001b[0m \u001b[0mtf\u001b[0m\u001b[1;33m\u001b[0m\u001b[0m\n\u001b[0m\u001b[1;32m     13\u001b[0m \u001b[1;32mfrom\u001b[0m \u001b[0mtensorflow\u001b[0m\u001b[1;33m.\u001b[0m\u001b[0mcontrib\u001b[0m\u001b[1;33m.\u001b[0m\u001b[0mlearn\u001b[0m\u001b[1;33m.\u001b[0m\u001b[0mpython\u001b[0m\u001b[1;33m.\u001b[0m\u001b[0mlearn\u001b[0m\u001b[1;33m.\u001b[0m\u001b[0mdatasets\u001b[0m\u001b[1;33m.\u001b[0m\u001b[0mmnist\u001b[0m \u001b[1;32mimport\u001b[0m \u001b[0mread_data_sets\u001b[0m\u001b[1;33m\u001b[0m\u001b[0m\n",
      "\u001b[0;31mImportError\u001b[0m: No module named 'tensorflow'"
     ]
    }
   ],
   "source": [
    "\"\"\"Functions for downloading and reading MNIST data.\"\"\"\n",
    "from __future__ import absolute_import\n",
    "from __future__ import division\n",
    "from __future__ import print_function\n",
    "\n",
    "import gzip\n",
    "import os\n",
    "import tempfile\n",
    "\n",
    "from six.moves import urllib\n",
    "from six.moves import xrange  # pylint: disable=redefined-builtin\n",
    "import tensorflow as tf\n",
    "from tensorflow.contrib.learn.python.learn.datasets.mnist import read_data_sets\n"
   ]
  },
  {
   "cell_type": "code",
   "execution_count": null,
   "metadata": {
    "collapsed": true
   },
   "outputs": [],
   "source": []
  }
 ],
 "metadata": {
  "kernelspec": {
   "display_name": "Python [default]",
   "language": "python",
   "name": "python3"
  },
  "language_info": {
   "codemirror_mode": {
    "name": "ipython",
    "version": 3
   },
   "file_extension": ".py",
   "mimetype": "text/x-python",
   "name": "python",
   "nbconvert_exporter": "python",
   "pygments_lexer": "ipython3",
   "version": "3.5.2"
  }
 },
 "nbformat": 4,
 "nbformat_minor": 2
}
